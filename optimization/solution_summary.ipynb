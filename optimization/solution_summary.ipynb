{
 "cells": [
  {
   "cell_type": "markdown",
   "id": "ef26fd61",
   "metadata": {},
   "source": [
    "# Summary of optimization solutions\n",
    "\n",
    "This notebook presents the summary of the solutions to the different optimization problems. Details on the reported metrics can be found in the `summary.json` file of each solution."
   ]
  },
  {
   "cell_type": "code",
   "execution_count": 15,
   "id": "9775346e",
   "metadata": {},
   "outputs": [],
   "source": [
    "import pandas as pd\n",
    "\n",
    "from utils import parse_solutions"
   ]
  },
  {
   "cell_type": "markdown",
   "id": "ef68c200",
   "metadata": {},
   "source": [
    "## Maxcut\n",
    "\n",
    "Maxcut is a generic benchmark. Progress on solving large maxcut instances are a sign of progress of quantum information processing technologies in general."
   ]
  },
  {
   "cell_type": "code",
   "execution_count": 25,
   "id": "a6319a72",
   "metadata": {},
   "outputs": [
    {
     "data": {
      "text/html": [
       "<div>\n",
       "<style scoped>\n",
       "    .dataframe tbody tr th:only-of-type {\n",
       "        vertical-align: middle;\n",
       "    }\n",
       "\n",
       "    .dataframe tbody tr th {\n",
       "        vertical-align: top;\n",
       "    }\n",
       "\n",
       "    .dataframe thead th {\n",
       "        text-align: right;\n",
       "    }\n",
       "</style>\n",
       "<table border=\"1\" class=\"dataframe\">\n",
       "  <thead>\n",
       "    <tr style=\"text-align: right;\">\n",
       "      <th></th>\n",
       "      <th>problem</th>\n",
       "      <th>date</th>\n",
       "      <th>objective</th>\n",
       "      <th>approximation ratio</th>\n",
       "      <th>time to solution</th>\n",
       "      <th>publication</th>\n",
       "    </tr>\n",
       "  </thead>\n",
       "  <tbody>\n",
       "    <tr>\n",
       "      <th>0</th>\n",
       "      <td>27_variables_heavyhex_1</td>\n",
       "      <td>2022-07-26</td>\n",
       "      <td>12</td>\n",
       "      <td>1.0</td>\n",
       "      <td>7192.0</td>\n",
       "      <td>https://doi.org/10.22331/q-2022-12-07-870</td>\n",
       "    </tr>\n",
       "  </tbody>\n",
       "</table>\n",
       "</div>"
      ],
      "text/plain": [
       "                   problem        date  objective  approximation ratio  \\\n",
       "0  27_variables_heavyhex_1  2022-07-26         12                  1.0   \n",
       "\n",
       "   time to solution                                publication  \n",
       "0            7192.0  https://doi.org/10.22331/q-2022-12-07-870  "
      ]
     },
     "execution_count": 25,
     "metadata": {},
     "output_type": "execute_result"
    }
   ],
   "source": [
    "fields = [\"date\", \"objective\", \"approximation ratio\", \"time to solution\", \"publication\"]\n",
    "mc_data=parse_solutions(\"maxcut\",fields)\n",
    "pd.DataFrame(mc_data)"
   ]
  },
  {
   "cell_type": "markdown",
   "id": "dc699659-d3ce-4da2-8011-8bd89f5cba02",
   "metadata": {},
   "source": [
    "## Knapsack"
   ]
  },
  {
   "cell_type": "code",
   "execution_count": 26,
   "id": "921d9038-413e-4548-a54d-2b875797ca6a",
   "metadata": {},
   "outputs": [
    {
     "data": {
      "text/html": [
       "<div>\n",
       "<style scoped>\n",
       "    .dataframe tbody tr th:only-of-type {\n",
       "        vertical-align: middle;\n",
       "    }\n",
       "\n",
       "    .dataframe tbody tr th {\n",
       "        vertical-align: top;\n",
       "    }\n",
       "\n",
       "    .dataframe thead th {\n",
       "        text-align: right;\n",
       "    }\n",
       "</style>\n",
       "<table border=\"1\" class=\"dataframe\">\n",
       "  <thead>\n",
       "    <tr style=\"text-align: right;\">\n",
       "      <th></th>\n",
       "      <th>problem</th>\n",
       "      <th>date</th>\n",
       "      <th>objective</th>\n",
       "      <th>approximation ratio</th>\n",
       "      <th>time to solution</th>\n",
       "      <th>publication</th>\n",
       "    </tr>\n",
       "  </thead>\n",
       "  <tbody>\n",
       "    <tr>\n",
       "      <th>0</th>\n",
       "      <td>kp_10_60</td>\n",
       "      <td>2023-10-06</td>\n",
       "      <td>52</td>\n",
       "      <td>1.0</td>\n",
       "      <td>1460.594</td>\n",
       "      <td>n.a.</td>\n",
       "    </tr>\n",
       "    <tr>\n",
       "      <th>1</th>\n",
       "      <td>kp_5_80</td>\n",
       "      <td>2023-10-05</td>\n",
       "      <td>130</td>\n",
       "      <td>1.0</td>\n",
       "      <td>2094.261</td>\n",
       "      <td>n.a.</td>\n",
       "    </tr>\n",
       "  </tbody>\n",
       "</table>\n",
       "</div>"
      ],
      "text/plain": [
       "    problem        date  objective  approximation ratio  time to solution  \\\n",
       "0  kp_10_60  2023-10-06         52                  1.0          1460.594   \n",
       "1   kp_5_80  2023-10-05        130                  1.0          2094.261   \n",
       "\n",
       "  publication  \n",
       "0        n.a.  \n",
       "1        n.a.  "
      ]
     },
     "execution_count": 26,
     "metadata": {},
     "output_type": "execute_result"
    }
   ],
   "source": [
    "kp_data = parse_solutions(\"knapsack\", fields)\n",
    "pd.DataFrame(kp_data)"
   ]
  },
  {
   "cell_type": "code",
   "execution_count": null,
   "id": "d58a77db-0c9d-4d45-a8e3-05c21cb31efb",
   "metadata": {},
   "outputs": [],
   "source": []
  }
 ],
 "metadata": {
  "kernelspec": {
   "display_name": "Python 3 (ipykernel)",
   "language": "python",
   "name": "python3"
  },
  "language_info": {
   "codemirror_mode": {
    "name": "ipython",
    "version": 3
   },
   "file_extension": ".py",
   "mimetype": "text/x-python",
   "name": "python",
   "nbconvert_exporter": "python",
   "pygments_lexer": "ipython3",
   "version": "3.10.9"
  }
 },
 "nbformat": 4,
 "nbformat_minor": 5
}
